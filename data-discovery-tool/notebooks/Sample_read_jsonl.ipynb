{
 "cells": [
  {
   "cell_type": "code",
   "execution_count": 3,
   "id": "eb905cd5",
   "metadata": {},
   "outputs": [
    {
     "name": "stdout",
     "output_type": "stream",
     "text": [
      "Collecting constellate-client\n",
      "  Downloading constellate_client-0.0.6-py3-none-any.whl.metadata (952 bytes)\n",
      "Requirement already satisfied: requests in c:\\users\\vikruhil\\anaconda3\\envs\\assignment3\\lib\\site-packages (from constellate-client) (2.31.0)\n",
      "Collecting progressbar (from constellate-client)\n",
      "  Using cached progressbar-2.5.tar.gz (10 kB)\n",
      "  Preparing metadata (setup.py): started\n",
      "  Preparing metadata (setup.py): finished with status 'done'\n",
      "Requirement already satisfied: charset-normalizer<4,>=2 in c:\\users\\vikruhil\\anaconda3\\envs\\assignment3\\lib\\site-packages (from requests->constellate-client) (2.0.4)\n",
      "Requirement already satisfied: idna<4,>=2.5 in c:\\users\\vikruhil\\anaconda3\\envs\\assignment3\\lib\\site-packages (from requests->constellate-client) (3.4)\n",
      "Requirement already satisfied: urllib3<3,>=1.21.1 in c:\\users\\vikruhil\\anaconda3\\envs\\assignment3\\lib\\site-packages (from requests->constellate-client) (2.1.0)\n",
      "Requirement already satisfied: certifi>=2017.4.17 in c:\\users\\vikruhil\\anaconda3\\envs\\assignment3\\lib\\site-packages (from requests->constellate-client) (2024.2.2)\n",
      "Downloading constellate_client-0.0.6-py3-none-any.whl (6.3 kB)\n",
      "Building wheels for collected packages: progressbar\n",
      "  Building wheel for progressbar (setup.py): started\n",
      "  Building wheel for progressbar (setup.py): finished with status 'done'\n",
      "  Created wheel for progressbar: filename=progressbar-2.5-py3-none-any.whl size=12083 sha256=59394174384df3f4c70c76e982427337c15f0124660649971e6c5562a57e5386\n",
      "  Stored in directory: c:\\users\\vikruhil\\appdata\\local\\pip\\cache\\wheels\\2c\\67\\ed\\d84123843c937d7e7f5ba88a270d11036473144143355e2747\n",
      "Successfully built progressbar\n",
      "Installing collected packages: progressbar, constellate-client\n",
      "Successfully installed constellate-client-0.0.6 progressbar-2.5\n",
      "Note: you may need to restart the kernel to use updated packages.\n"
     ]
    }
   ],
   "source": [
    "%pip install constellate-client"
   ]
  },
  {
   "cell_type": "code",
   "execution_count": 5,
   "id": "fd3f7f36",
   "metadata": {},
   "outputs": [
    {
     "name": "stdout",
     "output_type": "stream",
     "text": [
      "Ecology from JSTOR about Biological sciences - Agriculture, Biological sciences - Biochemistry, Biological sciences - Biogeography, Biological sciences - Biology, Biological sciences - Ecology, Biological sciences - Paleontology, Environmental studies - Atmospheric sciences, Environmental studies - Environmental philosophy, Environmental studies - Environmental politics limited to document type(s) article, research_report from 1900 - 2025. 50000 documents.\n",
      "INFO:root:File C:\\Users\\VikRuhil\\data\\eeb16cb4-a04a-5e68-3f20-8d5e677fd5ac-sampled-metadata.csv exists. Not re-downloading.\n",
      "📦 Type of metadata: <class 'str'>\n",
      "📄 Sample content: C:\\Users\\VikRuhil\\data\\eeb16cb4-a04a-5e68-3f20-8d5e677fd5ac-sampled-metadata.csv\n"
     ]
    }
   ],
   "source": [
    "import constellate\n",
    "\n",
    "dataset_id = \"eeb16cb4-a04a-5e68-3f20-8d5e677fd5ac\"\n",
    "metadata = constellate.get_metadata(dataset_id)\n",
    "\n",
    "print(\"📦 Type of metadata:\", type(metadata))\n",
    "print(\"📄 Sample content:\", metadata[:2] if isinstance(metadata, list) else metadata)\n"
   ]
  },
  {
   "cell_type": "code",
   "execution_count": null,
   "id": "0fd7cff3",
   "metadata": {},
   "outputs": [],
   "source": []
  }
 ],
 "metadata": {
  "kernelspec": {
   "display_name": "Assignment 3 EVN",
   "language": "python",
   "name": "assignment3"
  },
  "language_info": {
   "codemirror_mode": {
    "name": "ipython",
    "version": 3
   },
   "file_extension": ".py",
   "mimetype": "text/x-python",
   "name": "python",
   "nbconvert_exporter": "python",
   "pygments_lexer": "ipython3",
   "version": "3.8.18"
  }
 },
 "nbformat": 4,
 "nbformat_minor": 5
}
